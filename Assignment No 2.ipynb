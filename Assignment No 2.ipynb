{
 "cells": [
  {
   "cell_type": "markdown",
   "metadata": {},
   "source": [
    "# Task 1:   \n",
    " \n",
    "# 1.1  \n",
    " \n",
    "Write a Python Program to implement your own myreduce() function which works exactly like Python's built-in function reduce()"
   ]
  },
  {
   "cell_type": "code",
   "execution_count": 8,
   "metadata": {},
   "outputs": [
    {
     "name": "stdout",
     "output_type": "stream",
     "text": [
      "Product of numbers using reduce function is: 217945728000\n"
     ]
    }
   ],
   "source": [
    "def my_reduce(func, sequence):\n",
    "\n",
    "    # Initializing list to store the first element of the sequence\n",
    "    result = sequence[0]\n",
    "\n",
    "    # Now computing the first and second value to the fn,\n",
    "    # this will go upto last value of the sequence\n",
    "    for values in sequence[1:]:\n",
    "        result = func(result, values)\n",
    "\n",
    "    return result\n",
    "\n",
    "\n",
    "def product(x, y):\n",
    "    return x*y\n",
    "\n",
    "\n",
    "numbers = range(4, 16)\n",
    "x = my_reduce(product, numbers)\n",
    "print(\"Product of numbers using reduce function is:\", str(x))"
   ]
  },
  {
   "cell_type": "markdown",
   "metadata": {},
   "source": [
    "# 1.2  \n",
    " \n",
    "Write a Python program to implement your own myfilter() function which works exactly like Python's built-in function filter() "
   ]
  },
  {
   "cell_type": "code",
   "execution_count": 13,
   "metadata": {},
   "outputs": [
    {
     "name": "stdout",
     "output_type": "stream",
     "text": [
      "Using filter, your even numbers are: \n",
      " [1, 3, 5, 7, 9, 11, 13, 15, 17, 19]\n"
     ]
    }
   ],
   "source": [
    "def my_filter(func, sequence):\n",
    "    # Initializing an empty list\n",
    "    final_list = []\n",
    "\n",
    "    # Passing every item in the sequence through values,\n",
    "    # then passing every value of values through the used function,\n",
    "    # if the result of fn comes out to be true, appending the value of the sequence to the final_list\n",
    "    for values in sequence:\n",
    "        if func(values):\n",
    "            final_list.append(values)\n",
    "\n",
    "    return final_list\n",
    "\n",
    "\n",
    "# To test filter function\n",
    "def isodd(n):\n",
    "    if n % 2 != 0:\n",
    "        return True\n",
    "    else:\n",
    "        return False\n",
    "\n",
    "\n",
    "numbers = range(20)\n",
    "x = my_filter(isodd, numbers)\n",
    "print(\"Using filter, your odd numbers are: \\n\", str(x))"
   ]
  },
  {
   "cell_type": "markdown",
   "metadata": {},
   "source": [
    "# 2.  \n",
    " \n",
    "Implement List comprehensions to produce the following lists. \n",
    " \n",
    "Write List comprehensions to produce the following Lists \n",
    " \n",
    "# ['A', 'C', 'A', 'D', 'G', 'I', ’L’, ‘ D’] \n",
    " \n",
    "# ['x', 'xx', 'xxx', 'xxxx', 'y', 'yy', 'yyy', 'yyyy', 'z', 'zz', 'zzz', 'zzzz'] \n",
    " \n",
    "# ['x', 'y', 'z', 'xx', 'yy', 'zz', 'xx', 'yy', 'zz', 'xxxx', 'yyyy', 'zzzz'] \n",
    " \n",
    "# [[2], [3], [4], [3], [4], [5], [4], [5], [6]] \n",
    " \n",
    "# [[2, 3, 4, 5], [3, 4, 5, 6], [4, 5, 6, 7], [5, 6, 7, 8]] \n",
    " \n",
    "# [(1, 1), (2, 1), (3, 1), (1, 2), (2, 2), (3, 2), (1, 3), (2, 3), (3, 3)] "
   ]
  },
  {
   "cell_type": "code",
   "execution_count": 14,
   "metadata": {},
   "outputs": [
    {
     "name": "stdout",
     "output_type": "stream",
     "text": [
      "['A', 'C', 'A', 'D', 'G', 'I', 'L', 'D']\n",
      "['x', 'xx', 'xxx', 'xxxx', 'y', 'yy', 'yyy', 'yyyy', 'z', 'zz', 'zzz', 'zzzz']\n",
      "['x', 'y', 'z', 'xx', 'yy', 'zz', 'xxx', 'yyy', 'zzz', 'xxxx', 'yyyy', 'zzzz']\n",
      "[[2], [3], [4], [3], [4], [5], [4], [5], [6]]\n",
      "[[2, 3, 4, 5], [3, 4, 5, 6], [4, 5, 6, 7], [5, 6, 7, 8]]\n",
      "[(1, 1), (2, 1), (3, 1), (1, 2), (2, 2), (3, 2), (1, 3), (2, 3), (3, 3)]\n"
     ]
    }
   ],
   "source": [
    "# List Comprehension = [expression condition]\n",
    "\n",
    "# 1\n",
    "given_word = \"ACADGILD\"\n",
    "result = [letters for letters in given_word]\n",
    "print(result)\n",
    "\n",
    "# 2\n",
    "given_list = ['x','y','z']\n",
    "# First for loop is outer loop and the second one is inner loop\n",
    "# After the expression the first statement is always the outer condition/fn followed by inner condition/fn\n",
    "# It means first the expression will run for all the values of number given first value of item\n",
    "result = [items*number for items in given_list for number in range(1, 5)]\n",
    "print(result)\n",
    "\n",
    "# 3\n",
    "result = [items*number for number in range(1,5) for items in given_list]\n",
    "print(result)\n",
    "\n",
    "# 4\n",
    "given_list = [2,3,4]\n",
    "result = [[i+j] for i in given_list for j in range(3)]\n",
    "print(result)\n",
    "\n",
    "# 5\n",
    "given_list = [2,3,4,5]\n",
    "result = [[i+number for i in given_list] for number in range(4)]\n",
    "print(result)\n",
    "\n",
    "# 6\n",
    "given_list = [1,2,3]\n",
    "result = [(j,i) for i in given_list for j in given_list]\n",
    "print(result)"
   ]
  },
  {
   "cell_type": "markdown",
   "metadata": {},
   "source": [
    "# 3.  \n",
    " \n",
    "Implement a function longestWord() that takes a list of words and returns the longest one"
   ]
  },
  {
   "cell_type": "code",
   "execution_count": 17,
   "metadata": {},
   "outputs": [
    {
     "name": "stdout",
     "output_type": "stream",
     "text": [
      "Enter number of words you want to enter:3\n",
      "Enter the words one by one:ali\n",
      "Enter the words one by one:asad\n",
      "Enter the words one by one:ab\n",
      "Your longest word amongst  ['ali', 'asad', 'ab']  is  asad."
     ]
    }
   ],
   "source": [
    "words = []\n",
    "n = int(input(\"Enter number of words you want to enter:\"))\n",
    "for i in range(n):\n",
    "    # Words to add in the list\n",
    "    x = input(\"Enter the words one by one:\")\n",
    "    words.append(x)\n",
    "\n",
    "# sorted(iterable, key, reverse)\n",
    "# iterable is basically sequence of nums or words that need to be sorted, it can be of any type ex. list/tuple etx\n",
    "# key sets the basis for sorting, for ex in this case it's length\n",
    "# reverse if set true, it sorts in reverse order\n",
    "result = sorted(words, key=len)\n",
    "\n",
    "# took the last word as it'll be the longest word as the list is sorted length wise\n",
    "print(\"Your longest word amongst \", words,\" is \", result[-1], end=\".\")\n"
   ]
  },
  {
   "cell_type": "markdown",
   "metadata": {},
   "source": [
    "# Task 2"
   ]
  },
  {
   "cell_type": "markdown",
   "metadata": {},
   "source": [
    "# 1.1  \n",
    " \n",
    "Write a Python Program(with class concepts) to find the area of the triangle using the below formula. \n",
    " \n",
    "area = (s*(s-a)*(s-b)*(s-c)) ** 0.5 \n",
    " \n",
    "Function to take the length of the sides of triangle from user should be defined in the parent class \n",
    "and function to calculate the area should be defined in subclass. "
   ]
  },
  {
   "cell_type": "code",
   "execution_count": 19,
   "metadata": {},
   "outputs": [
    {
     "name": "stdout",
     "output_type": "stream",
     "text": [
      "4\n",
      "5\n",
      "6\n",
      "9.921567416492215\n"
     ]
    }
   ],
   "source": [
    "class SidesOFTriangle:\n",
    "    def __init__(self, a=2, b=2, c=2):\n",
    "        self.sideA = a\n",
    "        self.sideB = b\n",
    "        self.sideC = c\n",
    "\n",
    "\n",
    "class AreaOfTriangle(SidesOFTriangle):\n",
    "    def area(self):\n",
    "        s = (self.sideA + self.sideB + self.sideC) / 2\n",
    "        return (s * (s - self.sideA) * (s - self.sideB) * (s - self.sideC)) ** 0.5\n",
    "\n",
    "\n",
    "x, y, z = int(input()), int(input()), int(input())\n",
    "AreaOfTriangle_object = AreaOfTriangle(x, y, z)\n",
    "result = AreaOfTriangle_object.area()\n",
    "\n",
    "print(result)"
   ]
  },
  {
   "cell_type": "markdown",
   "metadata": {},
   "source": [
    "# 1.2 \n",
    " \n",
    "Write a function filter_long_words() that takes a list of words and an integer n and returns the list of words that are longer than n. "
   ]
  },
  {
   "cell_type": "code",
   "execution_count": 30,
   "metadata": {},
   "outputs": [
    {
     "name": "stdout",
     "output_type": "stream",
     "text": [
      "['Artificial', 'Machine']\n"
     ]
    }
   ],
   "source": [
    "def filter_long_words(iterable, n):\n",
    "    x = []\n",
    "    for i in iterable:\n",
    "        if len(i) > n:\n",
    "            x.append(i)\n",
    "    return x\n",
    "\n",
    "\n",
    "l = [\"Happy\", \"Sad\", \"Action\", \"Dance\", \"Artificial\", \"Machine\"]\n",
    "result = filter_long_words(l, 6)\n",
    "print(result)"
   ]
  },
  {
   "cell_type": "markdown",
   "metadata": {},
   "source": [
    "# 2.1 \n",
    " \n",
    "Write a Python program using function concept that maps  list of words into a list of integers representing the lengths of the corresponding words​. \n",
    " Hint: ​If a list [ ab,cde,erty] is passed on to the python function output should come as [2,3,4] \n",
    " Here 2,3 and 4 are the lengths of the words in the list. "
   ]
  },
  {
   "cell_type": "code",
   "execution_count": 32,
   "metadata": {},
   "outputs": [
    {
     "name": "stdout",
     "output_type": "stream",
     "text": [
      "[6, 8, 5, 5]\n"
     ]
    }
   ],
   "source": [
    "def map_len_words(iterable):\n",
    "    return list(map(len, iterable))\n",
    "\n",
    "\n",
    "l = [\"Corona\", \"everyone\", \"virus\", \"Harry\"]\n",
    "result = map_len_words(l)\n",
    "print(result)"
   ]
  },
  {
   "cell_type": "markdown",
   "metadata": {},
   "source": [
    "# 2.2 \n",
    " \n",
    "Write a Python function which takes a character (i.e. a string of length 1) and returns True if it is a vowel, False otherwise. "
   ]
  },
  {
   "cell_type": "code",
   "execution_count": 56,
   "metadata": {},
   "outputs": [
    {
     "name": "stdout",
     "output_type": "stream",
     "text": [
      "Enter the string to check\n",
      "z\n",
      "The enterted character is not Vowel\n"
     ]
    }
   ],
   "source": [
    "def vowelChecker (inputChar):\n",
    "    \n",
    " #DocString\n",
    " \"\"\" Function to check whether a char is vowel or not \"\"\"\n",
    " \n",
    " if (inputChar == \"a\" or inputChar == \"A\" or\n",
    " inputChar == \"e\" or inputChar == \"E\" or\n",
    " inputChar == \"i\" or inputChar == \"I\" or\n",
    " inputChar == \"o\" or inputChar == \"O\" or\n",
    " inputChar == \"u\" or inputChar == \"U\"):\n",
    "    return \"True\"\n",
    " else:\n",
    "    return \"False\"\n",
    " \n",
    "print (\"Enter the string to check\")\n",
    "inputChar = input()\n",
    " \n",
    "if vowelChecker(inputChar) == \"True\":\n",
    "    \n",
    "       print(\"The enterted character is Vowel\")\n",
    "else:\n",
    "    \n",
    "     print(\"The enterted character is not Vowel\")\n"
   ]
  },
  {
   "cell_type": "code",
   "execution_count": null,
   "metadata": {},
   "outputs": [],
   "source": []
  }
 ],
 "metadata": {
  "kernelspec": {
   "display_name": "Python 3",
   "language": "python",
   "name": "python3"
  },
  "language_info": {
   "codemirror_mode": {
    "name": "ipython",
    "version": 3
   },
   "file_extension": ".py",
   "mimetype": "text/x-python",
   "name": "python",
   "nbconvert_exporter": "python",
   "pygments_lexer": "ipython3",
   "version": "3.7.4"
  }
 },
 "nbformat": 4,
 "nbformat_minor": 2
}
